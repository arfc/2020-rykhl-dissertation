{
 "cells": [
  {
   "cell_type": "code",
   "execution_count": 1,
   "metadata": {},
   "outputs": [
    {
     "name": "stdout",
     "output_type": "stream",
     "text": [
      "0.42333333333333334 1999.9193580903993\n",
      "0.2351709516431941\n",
      "0.36787944117144233\n",
      "Xe removal efficiency 0.8052663961094882\n"
     ]
    }
   ],
   "source": [
    "%matplotlib notebook \n",
    "# Import modules\n",
    "import math\n",
    "import numpy as np\n",
    "import matplotlib.pyplot\n",
    "\n",
    "T = 900  # absolute temperature, K\n",
    "R = 8.3144598  # J / mol·K\n",
    "H =  3.3e-5 # Henry's law constant for solute gas (Xe), mol(gas)/(L(sol)*atm) [Steward, 1973]\n",
    "H = 1/H  # Switch Henry constat to different units [L(sol)*atm/mol(gas)]\n",
    "# H(Kr) = 2.5e-5; H(He) = 3.7e-4\n",
    "# K_L = 13.5  # Mass Transfer coefficient, ft/hr; Peebles, Figure 5 for d_bubble=0.020in\n",
    "# liquid phase mass transfer coefficient i n the range of 1 < 5 < 100 f%/h [Peebles,p.9]\n",
    "K_L = 50  # from Figure 3 Peebles\n",
    "K_L = 30.48*K_L/3600  #Mass Transfer coefficient cm/sec \n",
    "# for He bubble diameter d_bubble = 0:508mm (0.020in[Robertson, 3.9.1])\n",
    "Q_m_L = 9.92E+6  # g/s to get 22 sec loop time\n",
    "d = 200 # pipe diameter, cm\n",
    "A_C = math.pi*(d/2)**2  # contactor cross-section, cm2\n",
    "L = 100  # Length of liquid-gas contactor, cm\n",
    "# gas-liquid interfacial area per unit volume of contactor, a\n",
    "a = (L*d) / (A_C*L)  # cm2/cm3=1/cm\n",
    "\n",
    "# To m/s Q_L = Q_m_L / (4.9602*A_c)\n",
    "Q_L = 1e-3*Q_m_L / 4.9602  # L/sec\n",
    "Q_G = 2.1e+3  # L/sec\n",
    "\n",
    "print(K_L, Q_L)\n",
    "alpha = (R*T*Q_L)/(H*Q_G)\n",
    "beta = (K_L*a*A_C*L*(1+alpha))/Q_L\n",
    "\n",
    "eps = (1-np.exp(-beta))/(1+alpha)\n",
    "\n",
    "print(alpha)\n",
    "print(np.exp(-1))\n",
    "\n",
    "print(\"Xe removal efficiency %s\" % eps)"
   ]
  },
  {
   "cell_type": "code",
   "execution_count": 2,
   "metadata": {},
   "outputs": [],
   "source": [
    "K_L = np.array([1, 2, 3, 5, 7, 10, 20, 50, 100])  # ft/hr\n",
    "eps_plot = np.array([0.032, 0.066, 0.095, 0.16, 0.21, 0.28, 0.48, 0.8, 0.96])"
   ]
  }
 ],
 "metadata": {
  "kernelspec": {
   "display_name": "Python 3",
   "language": "python",
   "name": "python3"
  },
  "language_info": {
   "codemirror_mode": {
    "name": "ipython",
    "version": 3
   },
   "file_extension": ".py",
   "mimetype": "text/x-python",
   "name": "python",
   "nbconvert_exporter": "python",
   "pygments_lexer": "ipython3",
   "version": "3.5.6"
  }
 },
 "nbformat": 4,
 "nbformat_minor": 2
}
