{
 "cells": [
  {
   "cell_type": "code",
   "execution_count": null,
   "metadata": {
    "collapsed": false
   },
   "outputs": [],
   "source": [
    "%matplotlib notebook \n",
    "# Import modules\n",
    "import os\n",
    "import math\n",
    "import numpy as np\n",
    "import matplotlib.pyplot\n",
    "import re\n",
    "import pandas as pd\n",
    "from scipy.stats import norm\n",
    "from pyne import serpent\n",
    "from pyne import nucname\n",
    "import time\n",
    "import multiprocessing as mp"
   ]
  },
  {
   "cell_type": "code",
   "execution_count": null,
   "metadata": {
    "collapsed": false
   },
   "outputs": [],
   "source": [
    "def read_keff(index):\n",
    "    res_file = dir+prefix+str(index)+'_res.m'\n",
    "    res = serpent.parse_res(res_file, write_py=False)\n",
    "    return res['IMP_KEFF'][:,0]\n",
    "    \n",
    "def read_comp(index):\n",
    "    dep_file = dir+prefix+str(index)+'_dep.m'\n",
    "    dep = serpent.parse_dep(dep_file, write_py=False,make_mats=False)\n",
    "    return dep['MAT_fuel_MDENS']\n",
    "    \n",
    "dir = '../sampler/'\n",
    "prefix = 'tap_'\n",
    "fnum_start = 0   # first file index\n",
    "fnum_end = 999  # last file index\n",
    "iso_list = ['U235', 'U236','U238', 'Pu239', 'Pu240', 'Xe135', 'I135']\n",
    "\n",
    "\n",
    "ncpu = mp.cpu_count()\n",
    "# res_d = serpent.parse_res(dir+prefix+str(0)+'_res.m', write_py=False)\n",
    "dep_d = serpent.parse_dep(dir+prefix+str(0)+'_dep.m', write_py=False,make_mats=False)\n",
    "days = dep_d['DAYS']\n",
    "vol_fuel = dep_d['MAT_fuel_VOLUME'][0]\n",
    "iso_names = dep_d['NAMES'][0].split()\n",
    "#print(vol_fuel)\n",
    "#print(iso_names)"
   ]
  },
  {
   "cell_type": "code",
   "execution_count": null,
   "metadata": {
    "collapsed": false
   },
   "outputs": [],
   "source": [
    "start_time = time.time()\n",
    "with mp.Pool(processes = ncpu) as p:\n",
    "    k_ds_list = p.map(read_keff, [idx for idx in range(0, fnum_end-fnum_start+1)])\n",
    "#d = read_comp(0)\n",
    "#print(vol_fuel*d[iso_names.index('U235'),:])\n",
    "k_ds_array = np.array(k_ds_list)\n",
    "elapsed_time = time.time() - start_time\n",
    "print(time.strftime(\"%H:%M:%S\", time.gmtime(elapsed_time)))"
   ]
  },
  {
   "cell_type": "code",
   "execution_count": null,
   "metadata": {
    "collapsed": true
   },
   "outputs": [],
   "source": [
    "#np.savetxt('keff_1000_samples.gz', k_ds_array)\n",
    "k_ds_array = np.loadtxt('keff_1000_samples.gz')"
   ]
  },
  {
   "cell_type": "code",
   "execution_count": null,
   "metadata": {
    "collapsed": false
   },
   "outputs": [],
   "source": [
    "start_time = time.time()\n",
    "with mp.Pool(processes = ncpu) as p:\n",
    "    depletion_ds = p.map(read_comp, [idx for idx in range(0, fnum_end-fnum_start+1)])\n",
    "depletion = np.array(depletion_ds)\n",
    "#print(vol_fuel*depletion[iso_names.index('U235'),:])\n",
    "elapsed_time = time.time() - start_time\n",
    "print(time.strftime(\"%H:%M:%S\", time.gmtime(elapsed_time)))"
   ]
  },
  {
   "cell_type": "code",
   "execution_count": null,
   "metadata": {
    "collapsed": false
   },
   "outputs": [],
   "source": [
    "#np.savez_compressed('depleted_mass_1000_samples.npz', a=depletion)\n",
    "with np.load('depleted_mass_1000_samples.npz', allow_pickle=True) as data:\n",
    "    depletion = data['a']"
   ]
  },
  {
   "cell_type": "code",
   "execution_count": null,
   "metadata": {
    "collapsed": false
   },
   "outputs": [],
   "source": [
    "k_eff = []\n",
    "std_k = []\n",
    "rel_err = []\n",
    "nsamp, nt = k_ds_array.shape\n",
    "\n",
    "for t in range(nt):\n",
    "    k_eff.append(np.median(k_ds_array[:,t]))\n",
    "    std_k.append(1e+5*np.std(k_ds_array[:,t]))\n",
    "    rel_err.append(100*np.std(k_ds_array[:,t])/np.median(k_ds_array[:,t]))\n",
    "\n",
    "print(len(k_eff))            \n",
    "#print(std_k)\n",
    "print(r\"Keff at BOC %5.5f +- %5.1f pcm; Std/mean %5.3f %%\" %(k_eff[0],std_k[0], rel_err[0]))\n",
    "print(r\"Keff at EOC %5.5f +- %5.1f pcm; Std/mean %5.3f %%\" %(k_eff[-1],std_k[-1], rel_err[-1]))"
   ]
  },
  {
   "cell_type": "code",
   "execution_count": null,
   "metadata": {
    "collapsed": false
   },
   "outputs": [],
   "source": [
    "mass = {}\n",
    "mass_std = {}\n",
    "mass_rel = {}\n",
    "nsampl, isos_number, nt = np.shape(depletion)\n",
    "\n",
    "print(nsampl, isos_number, nt)\n",
    "for iso in iso_list:\n",
    "    iso_idx = iso_names.index(iso)\n",
    "    mass[iso] = []\n",
    "    mass_std[iso] = []\n",
    "    mass_rel[iso] = []\n",
    "    for t in range(nt):\n",
    "        mass[iso].append(1e-3*vol_fuel*np.median(depletion[:,iso_idx,t]))\n",
    "        mass_std[iso].append(1e-3*vol_fuel*np.std(depletion[:,iso_idx,t]))\n",
    "        mass_rel[iso].append(100* np.std(depletion[:,iso_idx,t])/np.median(depletion[:,iso_idx,t]))\n",
    "\n",
    "#print(mass)            \n",
    "#print(mass_std)\n",
    "#print(mass_rel)\n",
    "print(\"U235 mass at BOC %7.3f +- %5.3f kg; Std/mean %5.3f %%\" %(mass['U235'][1],mass_std['U235'][1], mass_rel['U235'][1]) )\n",
    "print(\"U235 mass at EOC %7.3f +- %5.3f kg; Std/mean %5.3f %%\" %(mass['U235'][-1],mass_std['U235'][-1], mass_rel['U235'][-1]) )\n",
    "print(\"\\nU238 mass at BOC %7.3f +- %5.3f kg; Std/mean %5.3f %%\" %(mass['Pu239'][1],mass_std['Pu239'][1], mass_rel['Pu239'][1]) )\n",
    "print(\"U238 mass at EOC %7.3f +- %5.3f kg; Std/mean %5.3f %%\" %(mass['Pu239'][-1],mass_std['Pu239'][-1], mass_rel['Pu239'][-1]) )"
   ]
  },
  {
   "cell_type": "code",
   "execution_count": null,
   "metadata": {
    "collapsed": false
   },
   "outputs": [],
   "source": [
    "# Initialize figure\n",
    "fig_1 = matplotlib.pyplot.figure(1)\n",
    "ax = fig_1.add_subplot(111)\n",
    "ax.grid(True)\n",
    "\n",
    "textstr = '\\n'.join((\n",
    "    r'$\\mathrm{median}=%.2f$' % (k_eff[0]),\n",
    "    r'$\\sigma=%.2f$ pcm' % (std_k[0])))\n",
    "props = dict(boxstyle='round', facecolor='wheat', alpha=0.5)\n",
    "\n",
    "ax.hist(k_ds_array[:,0], bins='auto', density=True, histtype='stepfilled', color='#0504aa',alpha=0.7)\n",
    "\n",
    "ax.text(0.05, 0.95, textstr, transform=ax.transAxes, fontsize=14,\n",
    "        verticalalignment='top', bbox=props)\n",
    "\n",
    "#ax.legend(loc=0)\n",
    "ax.set_xlabel(r'$k_{\\infty}$')\n",
    "ax.set_title('Full-core TAP (Serpent): Infinite muliplication factor for BOL')\n",
    "fig_1.show()\n",
    "\n",
    "# Initialize figure\n",
    "fig_2 = matplotlib.pyplot.figure(2)\n",
    "ax = fig_2.add_subplot(111)\n",
    "ax.grid(True)\n",
    "ax.hist(k_ds_array[:,-1], bins='auto', density=True, histtype='stepfilled', color='#0504aa',alpha=0.7)\n",
    "\n",
    "textstr = '\\n'.join((\n",
    "    r'$\\mathrm{median}=%.2f$' % (k_eff[-1]),\n",
    "    r'$\\sigma=%.2f$ pcm' % (std_k[-1])))\n",
    "\n",
    "ax.text(0.05, 0.95, textstr, transform=ax.transAxes, fontsize=14,\n",
    "        verticalalignment='top', bbox=props)\n",
    "\n",
    "#ax.legend(loc=0)\n",
    "ax.set_xlabel(r'$k_{\\infty}$')\n",
    "\n",
    "ax.set_title('Full-core TAP (Serpent): Infinite muliplication factor for EOL')\n",
    "fig_2.show()"
   ]
  },
  {
   "cell_type": "code",
   "execution_count": null,
   "metadata": {
    "collapsed": false
   },
   "outputs": [],
   "source": [
    "# Initialize figure\n",
    "fig_keff_std = matplotlib.pyplot.figure(3, figsize=[7,5])\n",
    "ax = fig_keff_std.add_subplot(111)\n",
    "ax.grid(True)\n",
    "ax.plot(days/365.0, std_k, '-s', label='TAP', markerfacecolor=\"None\")\n",
    "\n",
    "ax.legend(loc=0)\n",
    "ax.set_ylabel(r'$k_{\\infty}$ uncertanty [pcm]')\n",
    "ax.set_xlabel('EFPY')\n",
    "ax.set_title('Multiplication factor uncertanty')\n",
    "fig_keff_std.show()\n",
    "#fig_keff_std.savefig('keff_std_pwr_vs_tap.png', bbox_inches='tight', dpi=700)"
   ]
  },
  {
   "cell_type": "code",
   "execution_count": null,
   "metadata": {
    "collapsed": false
   },
   "outputs": [],
   "source": [
    "plot_list = ['U235', 'U236','U238', 'Pu239', 'Xe135', 'I135']\n",
    "# Initialize figure\n",
    "fig_mass = matplotlib.pyplot.figure(4, figsize=[8,6])\n",
    "ax = fig_mass.add_subplot(111)\n",
    "ax.grid(True)\n",
    "\n",
    "for iso in plot_list:\n",
    "    ax.plot(days/365.0, mass[iso], '+-', label=iso, markerfacecolor=\"None\")\n",
    "\n",
    "ax.legend(loc=0)\n",
    "ax.set_ylabel(r'Mass of the element in the core [kg]')\n",
    "ax.set_xlabel('EFPY')\n",
    "ax.set_title('Inventory of major isotopes in the TAP')\n",
    "fig_mass.show()\n",
    "#fig_mass.savefig('keff_std_pwr_vs_tap.png', bbox_inches='tight', dpi=700)\n",
    "\n",
    "# Initialize figure\n",
    "fig_rel_error = matplotlib.pyplot.figure(5, figsize=[8,6])\n",
    "ax = fig_rel_error.add_subplot(111)\n",
    "ax.grid(True)\n",
    "\n",
    "for iso in plot_list:\n",
    "    ax.plot(days/365.0, mass_rel[iso], 'o-', label=iso, markerfacecolor=\"None\")\n",
    "\n",
    "ax.legend(loc=0)\n",
    "ax.set_ylabel(r'Mass uncertainty [%]')\n",
    "ax.set_xlabel('EFPY')\n",
    "ax.set_title('Uncertainty from Serpent in mass of major isotopes in the TAP')\n",
    "fig_rel_error.show()\n",
    "#fig_rel_error.savefig('keff_std_pwr_vs_tap.png', bbox_inches='tight', dpi=700)"
   ]
  },
  {
   "cell_type": "code",
   "execution_count": null,
   "metadata": {
    "collapsed": false
   },
   "outputs": [],
   "source": [
    "sample_number_list = np.arange(250, len(k_ds_list), 10)\n",
    "std_samp_conv_k = []\n",
    "std_samp_conv = []\n",
    "\n",
    "for num in sample_number_list:\n",
    "    std_samp_conv_k.append(1e5*np.std(k_ds_array[:num,-1]))\n",
    "    std_samp_conv.append(100*np.std(depletion[:num,iso_names.index('U235'),-1])/ \\\n",
    "                             np.median(depletion[:num,iso_names.index('U235'),-1]))\n",
    "\n",
    "# Initialize figure\n",
    "fig_std_convergance = matplotlib.pyplot.figure(6, figsize=[7,5])\n",
    "ax = fig_std_convergance.add_subplot(111)\n",
    "ax.grid(True)\n",
    "ax.plot(sample_number_list, std_samp_conv, '-s', label='TAP', markerfacecolor=\"None\")\n",
    "\n",
    "ax.legend(loc=0)\n",
    "ax.set_ylabel(r'$^{235}$U mass uncertanty [%]')\n",
    "ax.set_xlabel('Number of samples')\n",
    "ax.set_title(r'$^{235}$U mass uncertanty convergance')\n",
    "fig_std_convergance.show()\n",
    "#fig_std_convergance.savefig('keff_std_pwr_vs_tap.png', bbox_inches='tight', dpi=700)\n",
    "\n",
    "# Initialize figure\n",
    "fig_std_convergance_k = matplotlib.pyplot.figure(7, figsize=[7,5])\n",
    "ax = fig_std_convergance_k.add_subplot(111)\n",
    "ax.grid(True)\n",
    "ax.plot(sample_number_list, std_samp_conv_k, '-o', label='TAP', markerfacecolor=\"None\")\n",
    "\n",
    "ax.legend(loc=0)\n",
    "ax.set_ylabel(r'$^k_{eff}$ uncertanty [pcm]')\n",
    "ax.set_xlabel('Number of samples')\n",
    "ax.set_title(r'$k_{eff}$ uncertanty convergance')\n",
    "fig_std_convergance_k.show()\n",
    "#fig_std_convergance.savefig('keff_std_pwr_vs_tap.png', bbox_inches='tight', dpi=700)"
   ]
  }
 ],
 "metadata": {
  "anaconda-cloud": {},
  "kernelspec": {
   "display_name": "Python [default]",
   "language": "python",
   "name": "python3"
  },
  "language_info": {
   "codemirror_mode": {
    "name": "ipython",
    "version": 3
   },
   "file_extension": ".py",
   "mimetype": "text/x-python",
   "name": "python",
   "nbconvert_exporter": "python",
   "pygments_lexer": "ipython3",
   "version": "3.5.2"
  }
 },
 "nbformat": 4,
 "nbformat_minor": 1
}
